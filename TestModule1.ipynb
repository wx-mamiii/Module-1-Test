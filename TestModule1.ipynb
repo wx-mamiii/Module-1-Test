{
 "cells": [
  {
   "cell_type": "code",
   "execution_count": 1,
   "id": "ee2eed52",
   "metadata": {},
   "outputs": [
    {
     "name": "stdout",
     "output_type": "stream",
     "text": [
      "Dusting off the cobwebs\n"
     ]
    }
   ],
   "source": [
    "print('Dusting off the cobwebs')"
   ]
  }
 ],
 "metadata": {
  "kernelspec": {
   "display_name": "base",
   "language": "python",
   "name": "python3"
  },
  "language_info": {
   "codemirror_mode": {
    "name": "ipython",
    "version": 3
   },
   "file_extension": ".py",
   "mimetype": "text/x-python",
   "name": "python",
   "nbconvert_exporter": "python",
   "pygments_lexer": "ipython3",
   "version": "3.11.6"
  }
 },
 "nbformat": 4,
 "nbformat_minor": 5
}
