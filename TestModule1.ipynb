{
 "cells": [
  {
   "cell_type": "code",
   "execution_count": null,
   "id": "ee2eed52",
   "metadata": {},
   "outputs": [
    {
     "name": "stdout",
     "output_type": "stream",
     "text": [
      "Dusting off the cobwebs\n"
     ]
    }
   ],
   "source": [
    "print('Dusting off the cobwebs')\n",
    "print('gracias, profesor!')"
   ]
  },
  {
   "cell_type": "code",
   "execution_count": 2,
   "id": "e1a3dbfc",
   "metadata": {},
   "outputs": [
    {
     "name": "stdout",
     "output_type": "stream",
     "text": [
      "2\n"
     ]
    }
   ],
   "source": [
    "one = 1\n",
    "print(one+one)"
   ]
  }
 ],
 "metadata": {
  "kernelspec": {
   "display_name": "base",
   "language": "python",
   "name": "python3"
  },
  "language_info": {
   "codemirror_mode": {
    "name": "ipython",
    "version": 3
   },
   "file_extension": ".py",
   "mimetype": "text/x-python",
   "name": "python",
   "nbconvert_exporter": "python",
   "pygments_lexer": "ipython3",
   "version": "3.11.6"
  }
 },
 "nbformat": 4,
 "nbformat_minor": 5
}
